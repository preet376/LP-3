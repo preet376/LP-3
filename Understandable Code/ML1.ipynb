{
 "cells": [
  {
   "cell_type": "code",
   "execution_count": 1,
   "id": "72ec4050",
   "metadata": {},
   "outputs": [
    {
     "name": "stdout",
     "output_type": "stream",
     "text": [
      "Coeffiecients : \n",
      "\n",
      "\n",
      "b0 : \n",
      "12.584627964022893\n",
      "b1 : \n",
      "4.58789860997547\n"
     ]
    },
    {
     "data": {
      "image/png": "[encoded data removed]",
      "text/plain": [
       "<Figure size 432x288 with 1 Axes>"
      ]
     },
     "metadata": {
      "needs_background": "light"
     },
     "output_type": "display_data"
    }
   ],
   "source": [
    "import numpy as np\n",
    "import matplotlib.pyplot as plt\n",
    "\n",
    "x = np.array([10,9,2,15,10,16,11,16])\n",
    "y = np.array([95,80,10,50,45,98,38,93])\n",
    "\n",
    "n = np.size(x)\n",
    "\n",
    "mx = np.mean(x)\n",
    "my = np.mean(y)\n",
    "\n",
    "# calculating cross-deviation and deviation about x\n",
    "\n",
    "xy = np.sum(y*x) - n*my*mx\n",
    "xx = np.sum(x*x) - n*mx*mx\n",
    "\n",
    "b1 = xy / xx\n",
    "b0 = my - b1*mx\n",
    "\n",
    "print(\"Coeffiecients : \" )\n",
    "print(\"\\n\")\n",
    "print(\"b0 : \")\n",
    "print(b0)\n",
    "print(\"b1 : \")\n",
    "print(b1)\n",
    "\n",
    "y_pred = b0 + b1*x\n",
    "\n",
    "\n",
    "plt.scatter(x, y)\n",
    "\n",
    "plt.plot(x,y_pred)\n",
    "\n",
    "plt.xlabel('x')\n",
    "plt.ylabel('y')\n",
    "\n",
    "plt.show()\n",
    "\n",
    "\n",
    "\n"
   ]
  },
  {
   "cell_type": "code",
   "execution_count": null,
   "id": "f98fb89d",
   "metadata": {},
   "outputs": [],
   "source": []
  }
 ],
 "metadata": {
  "kernelspec": {
   "display_name": "Python 3 (ipykernel)",
   "language": "python",
   "name": "python3"
  },
  "language_info": {
   "codemirror_mode": {
    "name": "ipython",
    "version": 3
   },
   "file_extension": ".py",
   "mimetype": "text/x-python",
   "name": "python",
   "nbconvert_exporter": "python",
   "pygments_lexer": "ipython3",
   "version": "3.9.8"
  }
 },
 "nbformat": 4,
 "nbformat_minor": 5
}
