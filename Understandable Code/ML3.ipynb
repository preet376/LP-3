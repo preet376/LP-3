{
 "cells": [
  {
   "cell_type": "code",
   "execution_count": 5,
   "id": "71dfb431",
   "metadata": {},
   "outputs": [
    {
     "name": "stdout",
     "output_type": "stream",
     "text": [
      "\n",
      "KNN : \n",
      "\n",
      "Point is Blue\n",
      "\n",
      "Weighted KNN : \n",
      "\n",
      "Point is Blue\n"
     ]
    }
   ],
   "source": [
    "import math\n",
    "\n",
    "\n",
    "points=\t[ \n",
    "          [ [2,4] , [4,6] , [4,2] , [6,4] ],\n",
    "          [ [4,4] , [6,2] ]\n",
    "        ]\n",
    "\n",
    "p = [6,6]\n",
    "\n",
    "k = 3\n",
    "\n",
    "distance = []\n",
    "\n",
    "for i in range(2) :\n",
    "    for pair in points[i] :\n",
    "        euclidean_distance = math.sqrt((pair[0]-p[0])**2 + (pair[1]-p[1])**2 )\n",
    "        distance.append((euclidean_distance,i))\n",
    "\n",
    "\n",
    "distance = sorted(distance)[0:k]\n",
    "\n",
    "f0 = 0\n",
    "f1 = 0\n",
    "\n",
    "for d in distance :\n",
    "    if d[1] == 1:\n",
    "        f1 = f1 + 1\n",
    "    else: \n",
    "        f0 = f0 + 1\n",
    "\n",
    "print(\"\\nKNN : \\n\")\n",
    "\n",
    "if f0>f1:\n",
    "    print(\"Point is Blue\")\n",
    "else:\n",
    "    print(\"Point is Orange\")\n",
    "\n",
    "\n",
    "fr0 = 0\n",
    "fr1 = 0\n",
    "\n",
    "for d in distance :\n",
    "    if d[1] == 1:\n",
    "        fr1 = fr1 + (1/d[0])\n",
    "    else: \n",
    "        fr0 = fr0 + (1/d[0])\n",
    "\n",
    "print(\"\\nWeighted KNN : \\n\")\n",
    "\n",
    "if fr0>fr1:\n",
    "    print(\"Point is Blue\")\n",
    "else:\n",
    "    print(\"Point is Orange\")\n"
   ]
  },
  {
   "cell_type": "code",
   "execution_count": null,
   "id": "34a479a2",
   "metadata": {},
   "outputs": [],
   "source": []
  }
 ],
 "metadata": {
  "kernelspec": {
   "display_name": "Python 3 (ipykernel)",
   "language": "python",
   "name": "python3"
  },
  "language_info": {
   "codemirror_mode": {
    "name": "ipython",
    "version": 3
   },
   "file_extension": ".py",
   "mimetype": "text/x-python",
   "name": "python",
   "nbconvert_exporter": "python",
   "pygments_lexer": "ipython3",
   "version": "3.9.8"
  }
 },
 "nbformat": 4,
 "nbformat_minor": 5
}
