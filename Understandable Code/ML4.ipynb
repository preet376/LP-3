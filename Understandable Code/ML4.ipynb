{
 "cells": [
  {
   "cell_type": "code",
   "execution_count": 2,
   "id": "1f2e12e8",
   "metadata": {},
   "outputs": [
    {
     "name": "stdout",
     "output_type": "stream",
     "text": [
      "Point 6 is in Cluster : 2\n",
      "Population of Cluster 2 is :  4\n",
      "Value of centroid 1 : m1 :  [0.1225, 0.765]\n",
      "Value of centroid 2 : m2 :  [0.2475, 0.275]\n",
      "\n",
      "\n",
      "Cluster 1 :  [[0.1, 0.6], [0.15, 0.71], [0.08, 0.9], [0.16, 0.85]]\n",
      "\n",
      "\n",
      "Cluster 2 :  [[0.3, 0.2], [0.2, 0.3], [0.25, 0.5], [0.24, 0.1]]\n"
     ]
    },
    {
     "data": {
      "image/png": "[encoded data removed]",
      "text/plain": [
       "<Figure size 432x288 with 1 Axes>"
      ]
     },
     "metadata": {
      "needs_background": "light"
     },
     "output_type": "display_data"
    }
   ],
   "source": [
    "\n",
    "import numpy as np\n",
    "import matplotlib.pyplot as plt\n",
    "import math\n",
    "\n",
    "\n",
    "def dist(p1 , p2):\n",
    "    d = math.sqrt( (p1[0] - p2[0])**2 + (p1[1] - p2[1])**2 )\n",
    "    return d\n",
    "\n",
    "\n",
    "def calc_cent(cl):\n",
    "    x = 0\n",
    "    y = 0\n",
    "    for i in range(len(cl)):\n",
    "        x = x + cl[i][0]\n",
    "        y = y + cl[i][1]\n",
    "    x = x / len(cl)\n",
    "    y = y / len(cl)\n",
    "    p = [x,y]\n",
    "    return p\n",
    "\n",
    "\n",
    "\n",
    "points= [ \n",
    "        [0.1,0.6] , [0.15,0.71] , [0.08,0.9] , [0.16,0.85] , [0.2,0.3] , [0.25,0.5] , [0.24,0.1] , [0.3,0.2]\n",
    "    ]\n",
    "k = 2\n",
    "\n",
    "cl1 = [points[0]]\n",
    "cl2 = [points[7]]\n",
    "\n",
    "cent1 = points[0]\n",
    "cent2 = points[7]\n",
    "\n",
    "\n",
    "\n",
    "for i in range(1,7):\n",
    "    d1 = dist(cent1 , points[i])\n",
    "    d2 = dist(cent2 , points[i])\n",
    "    if d1>d2 :\n",
    "        cl2.append(points[i])\n",
    "        cent2 = calc_cent(cl2)\n",
    "    else:\n",
    "        cl1.append(points[i])\n",
    "        cent1 = calc_cent(cl1)\n",
    "\n",
    "\n",
    "x1 = []\n",
    "y1 = []\n",
    "for i in range(len(cl1)):\n",
    "    x1.append(cl1[i][0]) \n",
    "    y1.append(cl1[i][1])\n",
    "\n",
    "x2 = []\n",
    "y2 = []\n",
    "\n",
    "for i in range(len(cl2)):\n",
    "    x2.append(cl2[i][0])\n",
    "    y2.append(cl2[i][1])\n",
    "\n",
    "p = points[5]\n",
    "\n",
    "b = False\n",
    "\n",
    "for i in range(len(cl1)-1):\n",
    "    if p == cl1[i] :\n",
    "        b = True\n",
    "        break\n",
    "\n",
    "if b == True :\n",
    "    print(\"Point 6 is in Cluster : 1\")\n",
    "else : \n",
    "    print(\"Point 6 is in Cluster : 2\")\n",
    "\n",
    "print(\"Population of Cluster 2 is : \" , len(cl2) )\n",
    "\n",
    "print(\"Value of centroid 1 : m1 : \" , cent1)\n",
    "print(\"Value of centroid 2 : m2 : \" , cent2)\n",
    "\n",
    "print(\"\\n\")\n",
    "print(\"Cluster 1 : \" , cl1)\n",
    "\n",
    "print(\"\\n\")\n",
    "print(\"Cluster 2 : \" , cl2)\n",
    "\n",
    "\n",
    "\n",
    "plt.scatter(x1,y1 , c='blue')\n",
    "plt.scatter(x2,y2 , c='red')\n",
    "plt.scatter(cent1[0] , cent1[1] , c='green')\n",
    "plt.scatter(cent2[0] , cent2[1] , c='green')\n",
    "plt.xlabel('x')\n",
    "plt.ylabel('y')\n",
    "plt.show()\n",
    "\n",
    "\n",
    "\n"
   ]
  },
  {
   "cell_type": "code",
   "execution_count": null,
   "id": "e6693c11",
   "metadata": {},
   "outputs": [],
   "source": []
  }
 ],
 "metadata": {
  "kernelspec": {
   "display_name": "Python 3 (ipykernel)",
   "language": "python",
   "name": "python3"
  },
  "language_info": {
   "codemirror_mode": {
    "name": "ipython",
    "version": 3
   },
   "file_extension": ".py",
   "mimetype": "text/x-python",
   "name": "python",
   "nbconvert_exporter": "python",
   "pygments_lexer": "ipython3",
   "version": "3.9.8"
  }
 },
 "nbformat": 4,
 "nbformat_minor": 5
}
